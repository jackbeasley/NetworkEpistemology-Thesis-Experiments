{
 "nbformat": 4,
 "nbformat_minor": 2,
 "metadata": {
  "language_info": {
   "name": "python",
   "codemirror_mode": {
    "name": "ipython",
    "version": 3
   },
   "version": "3.7.7-final"
  },
  "orig_nbformat": 2,
  "file_extension": ".py",
  "mimetype": "text/x-python",
  "name": "python",
  "npconvert_exporter": "python",
  "pygments_lexer": "ipython3",
  "version": 3,
  "kernelspec": {
   "name": "python3",
   "display_name": "Python 3"
  }
 },
 "cells": [
  {
   "cell_type": "code",
   "execution_count": 44,
   "metadata": {},
   "outputs": [],
   "source": [
    "from neo4j import GraphDatabase\n",
    "import pandas as pd\n",
    "import networkx as nx\n",
    "from tqdm import tqdm\n",
    "import math\n",
    "from typing import Tuple, NamedTuple, Set, List\n",
    "from datetime import datetime\n",
    "\"\n",
    "driver = GraphDatabase.driver(\"bolt://localhost:7687\", auth=(\"neo4j\", \"mag\"))"
   ]
  },
  {
   "cell_type": "code",
   "execution_count": 54,
   "metadata": {},
   "outputs": [],
   "source": [
    "class Author(NamedTuple):\n",
    "    citationCount: int\n",
    "    createdDate: datetime\n",
    "    displayName: str\n",
    "    paperCount: int\n",
    "    rank: int\n",
    "    authorId: int\n",
    "    normalizedName: str\n",
    "\n",
    "def node_to_author(node) -> Author:\n",
    "    return Author(\n",
    "        node.get('citationCount'),\n",
    "        node.get('createdDate').to_native(),\n",
    "        node.get('displayName'),\n",
    "        node.get('paperCount'),\n",
    "        node.get('rank'),\n",
    "        node.get('authorId'),\n",
    "        node.get('normalizedName')\n",
    "    )\n",
    "\n",
    "def author_cites_relations(fieldOfStudyName: str) -> List[Tuple[Author, Author]]:\n",
    "    AUTHOR_CITED_QUERY = \"\"\"\n",
    "        MATCH (p1:Paper)-[:IN_FIELD]->(parent:FieldsOfStudy{normalizedName: $fosName}) WHERE p1.citationCount > 0\n",
    "        MATCH (p1:Paper)-[r:REFERENCES]->(p2:Paper)\n",
    "        MATCH (p2:Paper)-[:IN_FIELD]->(parent:FieldsOfStudy{normalizedName: $fosName}) WHERE p2 <> p1 AND p2.citationCount > 0\n",
    "        MATCH (p2:Paper)-[:AUTHORED_BY]->(a2:Author) MATCH (p1:Paper)-[:AUTHORED_BY]->(a1:Author) WHERE a1 <> a2\n",
    "        RETURN a1, a2\n",
    "    \"\"\"\n",
    "    with driver.session() as session:\n",
    "        return session.run(AUTHOR_CITED_QUERY, fosName=fieldOfStudyName)\n",
    "\n",
    "        results : List[Author] = [\n",
    "            (node_to_author(res['a1']), node_to_author(res['a2']))\n",
    "            for res in raw_results if res['a1'].get('authorId') != res['a2'].get('authorId')]\n",
    "        \n",
    "        return list(set(results))\n"
   ]
  },
  {
   "cell_type": "code",
   "execution_count": 48,
   "metadata": {},
   "outputs": [],
   "source": []
  },
  {
   "cell_type": "code",
   "execution_count": 55,
   "metadata": {},
   "outputs": [],
   "source": [
    "res = author_cites_relations('abstract algebra')"
   ]
  },
  {
   "cell_type": "code",
   "execution_count": 59,
   "metadata": {},
   "outputs": [
    {
     "output_type": "execute_result",
     "data": {
      "text/plain": "{'a1': <Node id=146651891 labels={'Author'} properties={'citationCount': 70, 'createdDate': neotime.Date(2017, 6, 30), 'displayName': 'Helena M. Pycior', 'paperCount': 7, 'rank': 18057, 'authorId': 2691817264, 'normalizedName': 'helena m pycior'}>,\n 'a2': <Node id=112723973 labels={'Author'} properties={'citationCount': 60, 'createdDate': neotime.Date(2017, 6, 30), 'displayName': 'Elaine Koppelman', 'paperCount': 2, 'rank': 18419, 'authorId': 2644213204, 'normalizedName': 'elaine koppelman'}>}"
     },
     "metadata": {},
     "execution_count": 59
    }
   ],
   "source": [
    "res[1]"
   ]
  },
  {
   "cell_type": "code",
   "execution_count": 53,
   "metadata": {},
   "outputs": [
    {
     "output_type": "execute_result",
     "data": {
      "text/plain": "976"
     },
     "metadata": {},
     "execution_count": 53
    }
   ],
   "source": [
    "len(graph.edges())"
   ]
  },
  {
   "cell_type": "code",
   "execution_count": null,
   "metadata": {},
   "outputs": [],
   "source": []
  }
 ]
}